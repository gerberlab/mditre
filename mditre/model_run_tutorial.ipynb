{
 "cells": [
  {
   "cell_type": "markdown",
   "id": "ea99b03b",
   "metadata": {},
   "source": [
    "# Tutorial for running MDITRE code on a pre-processed dataset\n",
    "\n",
    "In this tutorial we show how to run and interpret results of MDITRE on dataset from David et al. (2014)"
   ]
  },
  {
   "cell_type": "code",
   "execution_count": 1,
   "id": "68b29eed",
   "metadata": {},
   "outputs": [],
   "source": [
    "# Check for a GPU availability\n",
    "import torch\n",
    "import os\n",
    "\n",
    "os.environ[\"CUDA_VISIBLE_DEVICES\"]=\"\""
   ]
  },
  {
   "cell_type": "code",
   "execution_count": 2,
   "id": "9d1a7c05",
   "metadata": {},
   "outputs": [
    {
     "data": {
      "text/plain": [
       "False"
      ]
     },
     "execution_count": 2,
     "metadata": {},
     "output_type": "execute_result"
    }
   ],
   "source": [
    "torch.cuda.is_available()"
   ]
  },
  {
   "cell_type": "markdown",
   "id": "f9a100f2",
   "metadata": {},
   "source": [
    "### Quick start with default arguments\n",
    "We provide the following command that runs the MDITRE model code on the provided preprocessed data from David et al. (2014) located in the datasets folder. The command runs a 5-fold cross-validation procedure using multiprocessing (1 process per fold) and returns logs pertaining to some training diagnostics (useful for debugging) and finally the F1 score. The code runs the fastest with the presence of a GPU. On a CPU, it should still take only a few minutes to run in multiprocessing mode. If the user has limited CPU cores, they can set the \"--nproc_per_node\" to a lower number. The full description of the command line arguments accepted by the model code is located in the documentation [here](./config_doc.pdf)."
   ]
  },
  {
   "cell_type": "code",
   "execution_count": 3,
   "id": "ae9f1ef2",
   "metadata": {},
   "outputs": [
    {
     "name": "stdout",
     "output_type": "stream",
     "text": [
      "*****************************************\n",
      "Setting OMP_NUM_THREADS environment variable for each process to be 1 in default, to avoid your system being overloaded, please further tune the variable for optimal performance in your application as needed. \n",
      "*****************************************\n",
      "Directory  ./logs/david_testing  already exists\n",
      "Directory  ./logs/david_testing/seed_42  already exists\n",
      "Traceback (most recent call last):\n",
      "  File \"/home/suhas/anaconda3/envs/test_mditre_env/lib/python3.6/runpy.py\", line 193, in _run_module_as_main\n",
      "    \"__main__\", mod_spec)\n",
      "  File \"/home/suhas/anaconda3/envs/test_mditre_env/lib/python3.6/runpy.py\", line 85, in _run_code\n",
      "    exec(code, run_globals)\n",
      "  File \"/home/suhas/anaconda3/envs/test_mditre_env/lib/python3.6/site-packages/torch/distributed/launch.py\", line 263, in <module>\n",
      "    main()\n",
      "  File \"/home/suhas/anaconda3/envs/test_mditre_env/lib/python3.6/site-packages/torch/distributed/launch.py\", line 259, in main\n",
      "    cmd=cmd)\n",
      "subprocess.CalledProcessError: Command '['/home/suhas/anaconda3/envs/test_mditre_env/bin/python', '-u', 'trainer.py', '--local_rank=4', '--data', './datasets/david_agg_filtered.pickle', '--data_name', 'david_testing', '--distributed', '--use_ref_kappa', '--is_16s']' died with <Signals.SIGFPE: 8>.\n"
     ]
    }
   ],
   "source": [
    "!python -m torch.distributed.launch --nproc_per_node=5 --nnodes=1 \\\n",
    "    trainer.py --data ./datasets/david_agg_filtered.pickle \\\n",
    "    --data_name david_testing --distributed --use_ref_kappa --is_16s"
   ]
  },
  {
   "cell_type": "code",
   "execution_count": null,
   "id": "4321e9d1",
   "metadata": {},
   "outputs": [],
   "source": []
  }
 ],
 "metadata": {
  "kernelspec": {
   "display_name": "Python 3",
   "language": "python",
   "name": "python3"
  },
  "language_info": {
   "codemirror_mode": {
    "name": "ipython",
    "version": 3
   },
   "file_extension": ".py",
   "mimetype": "text/x-python",
   "name": "python",
   "nbconvert_exporter": "python",
   "pygments_lexer": "ipython3",
   "version": "3.6.13"
  }
 },
 "nbformat": 4,
 "nbformat_minor": 5
}
