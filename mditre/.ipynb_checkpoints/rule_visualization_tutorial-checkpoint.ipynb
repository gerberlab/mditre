{
 "cells": [
  {
   "cell_type": "markdown",
   "id": "02f6c3bf",
   "metadata": {},
   "source": [
    "# Rule Visualization via GUI Tutorial\n",
    "In this tutorial we demonstrate the rule visualization GUI (Graphical User Interface) capabilities of our software. After successfully running the model code on a given dataset, the user can interactively explore the learned rules via the provided GUI utlity. We show an example walkthrough of the GUI using dataset from David et al., (2014) in the following steps."
   ]
  },
  {
   "cell_type": "code",
   "execution_count": 1,
   "id": "6d118bf1",
   "metadata": {},
   "outputs": [],
   "source": [
    "# Import packages\n",
    "from mditre.rule_viz import *\n",
    "# Make the notebook pop up a separate matplotlib window (instead of displaying inline)\n",
    "%matplotlib qt"
   ]
  },
  {
   "cell_type": "markdown",
   "id": "db65b9c3",
   "metadata": {},
   "source": [
    "## Step 1: Specify the location of rule output pickle file output by the model code\n",
    "After a successful run of the model code, the software saves a pickle file with suffix \"rules_dump.pickle\" in a specified location. This file contains all the necessary data to visualize the learned rules via the GUI."
   ]
  },
  {
   "cell_type": "code",
   "execution_count": 2,
   "id": "e18fef2d",
   "metadata": {},
   "outputs": [],
   "source": [
    "rules_path = './david_rules_dump.pickle'"
   ]
  },
  {
   "cell_type": "markdown",
   "id": "96f7ad4e",
   "metadata": {},
   "source": [
    "## Step 2: Load the pickle file\n",
    "The loaded file is a dictionary that will be input into the GUI code."
   ]
  },
  {
   "cell_type": "code",
   "execution_count": 3,
   "id": "6c52ba03",
   "metadata": {},
   "outputs": [],
   "source": [
    "with open(rules_path, 'rb') as f:\n",
    "    rule_dict = pickle.load(f)"
   ]
  },
  {
   "cell_type": "markdown",
   "id": "11d9c80b",
   "metadata": {},
   "source": [
    "## Step 3: Invoke the RuleVisualizer utility\n",
    "This opens a separate window with the rule visualization. We describe the workflow in the following steps."
   ]
  },
  {
   "cell_type": "code",
   "execution_count": 6,
   "id": "905cf01d",
   "metadata": {},
   "outputs": [],
   "source": [
    "rv = RuleVisualizer(rule_dict, './')\n",
    "rv.plot_log_odds()"
   ]
  },
  {
   "cell_type": "markdown",
   "id": "d76487d4",
   "metadata": {},
   "source": [
    "## Step 4: Rule Visualizer workflow\n",
    "- After running the rule visualizer utlity as shown before, a separate window pops up showing the log-odds of all the learned rules as heatmaps. In this example, we see that the model was able to learn 2 rules (rule 1 and rule 2). The topmost panel shows the log-odds of individual rules. This is followed by 2 panels showing the predicted log-odds of each rule individually for each subject. The next panel shows the combined log-odds of both rules for each subjects. Finally, a panel showing ground truth labels for each subject (Plant vs Animal diet). A rule with positive log-odds is predictive of the positive outcome (in this case Plant-diet) and vice-versa. As we can see, both rules individually and collectively can perfectly classify the subjects based on their outcomes. Next, in order to view the learned rules, one can click on the Button (that says \"Click\").\n",
    "- Clicking on a button to the left of the heatmap of rule 1 opens a separate window. This window shows the interpretable english rule on the top, followed by panel showing the detector activations for each subject as a heatmap. As we see, the rule is predictive of Animal-diet and therefore the detector is active (True) for all the subjects with Animal-diet. Since this rule contains only 1 detector, we omit showing the conjunction of all the detectors in a separate panel.\n",
    "- Next, the user can click on the button to the left of the detector heatmap, which opens a separate window showing the average rate of change of abundances (slope) over time for the 2 groups of subjects of the selected taxa (shown as a tree on the right), along with the heatmaps of the slope within the selected time window (day 10 - 15). <strong>Note, if the figure does not fit the screen, please click on \"Configure subplots\" button (located to the left of the zoom tool on the top left), and then click \"tight layout\" option.</strong> The purpose of this visualization is to allow the user to explore the differences in the temporal dynamics of the selected taxa both within and outside the selected time window between the subjects. One can see that the abundances of subjects with Animal diet increase at a higher rate (colored towards red) than the ones with Plant-diet (colored towrads blue) during days 10 - 15. An opposite effect can be observed during days 6 - 9, which is the period of the actual dietary intervention. This allows the user to gain insights into the effect of the dietary intervention on the microbiome.\n",
    "- We also provide a button located in the bottom right, which when clicked opens a separate window with the full phylogenetic tree of taxa. Using the zoom tool located at the top left of the new window, one can see the selected taxa (with red branches) in the context of the other nearby taxa in the full phylogenetic tree."
   ]
  },
  {
   "cell_type": "code",
   "execution_count": 7,
   "id": "c4e77275",
   "metadata": {},
   "outputs": [],
   "source": [
    "# Close the GUI\n",
    "plt.close(\"all\")"
   ]
  },
  {
   "cell_type": "code",
   "execution_count": null,
   "id": "93ebbbc4",
   "metadata": {},
   "outputs": [],
   "source": []
  }
 ],
 "metadata": {
  "kernelspec": {
   "display_name": "Python 3",
   "language": "python",
   "name": "python3"
  },
  "language_info": {
   "codemirror_mode": {
    "name": "ipython",
    "version": 3
   },
   "file_extension": ".py",
   "mimetype": "text/x-python",
   "name": "python",
   "nbconvert_exporter": "python",
   "pygments_lexer": "ipython3",
   "version": "3.6.13"
  }
 },
 "nbformat": 4,
 "nbformat_minor": 5
}
