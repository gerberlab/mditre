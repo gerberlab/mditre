{
 "cells": [
  {
   "cell_type": "markdown",
   "id": "ea99b03b",
   "metadata": {},
   "source": [
    "## A tutorial for running MDITRE code on a pre-processed dataset\n",
    "\n",
    "In this tutorial we show how to run and interpret results of MDITRE on dataset from David et al. (2014)"
   ]
  },
  {
   "cell_type": "markdown",
   "id": "f9a100f2",
   "metadata": {},
   "source": [
    "### Import packages\n",
    "First we import webbrowser package (for viewing pdf output files from MDITRE). Secondly we import objects from mditre package, Trainer is the main driver object and parse is a function that grabs the default inputs to the Trainer object"
   ]
  },
  {
   "cell_type": "code",
   "execution_count": 1,
   "id": "f0a5e00b",
   "metadata": {},
   "outputs": [],
   "source": [
    "import webbrowser\n",
    "from mditre.trainer_model import Trainer, parse"
   ]
  },
  {
   "cell_type": "code",
   "execution_count": 2,
   "id": "9d194f18",
   "metadata": {},
   "outputs": [],
   "source": [
    "# Parse default args\n",
    "args = parse()"
   ]
  },
  {
   "cell_type": "markdown",
   "id": "6abc4566",
   "metadata": {},
   "source": [
    "### Initialize Trainer object\n",
    "After the Trainer object is initialized with the default arguments, we see the following output. It shows all of the default arguments being used as input to Trainer object. In addition it shows that we will run the model on a GPU (device cuda:0)"
   ]
  },
  {
   "cell_type": "code",
   "execution_count": 3,
   "id": "bc295b55",
   "metadata": {},
   "outputs": [
    {
     "name": "stdout",
     "output_type": "stream",
     "text": [
      "Directory  ./logs/David  already exists\n",
      "Directory  ./logs/David/seed_42  already exists\n",
      "Directory  ./logs/David/seed_42/rank_0  already exists\n",
      "12/09 07:36:07 PM | Namespace(batch_size=128, cv_type='None', data='./datasets/david_agg_filtered.pickle', data_name='David', deterministic=True, distributed=False, epochs=2000, inner_cv=False, kfolds=5, local_rank=0, lr_alpha=0.001, lr_beta=0.001, lr_bias=0.001, lr_eta=0.001, lr_fc=0.001, lr_kappa=0.001, lr_mu=0.01, lr_slope=0.0001, lr_thresh=0.001, lr_time=0.01, max_k_bc=100, max_k_otu=100, max_k_slope=10000.0, max_k_thresh=1000, max_k_time=10, min_k_bc=1, min_k_otu=10, min_k_slope=1000.0, min_k_thresh=100, min_k_time=1, n_d=10, rank=0, save_as_csv=True, seed=42, verbose=False, w_var=100000.0, workers=0, world_size=1, z_mean=0, z_r_mean=0, z_r_var=1, z_var=1)\n",
      "12/09 07:36:07 PM | Using device: cuda:0\n",
      "12/09 07:36:07 PM | Trainer initialized!\n"
     ]
    }
   ],
   "source": [
    "# initialize trainer object\n",
    "trainer_obj = Trainer(args)"
   ]
  },
  {
   "cell_type": "markdown",
   "id": "ad7a0aeb",
   "metadata": {},
   "source": [
    "### Load preprocessed dataset\n",
    "Next we load the dataset we want to run the model on. In this case the pre-processed dataset is available in the following path './datasets/david_agg_filtered.pickle', as printed in the default args above under 'data'."
   ]
  },
  {
   "cell_type": "code",
   "execution_count": 4,
   "id": "00258adf",
   "metadata": {},
   "outputs": [
    {
     "name": "stdout",
     "output_type": "stream",
     "text": [
      "12/09 07:36:17 PM | Dataset: David Variables: 308, Otus: 185,                Subjects: 20, Total samples: 233\n",
      "12/09 07:36:17 PM | Outcomes: (array([0., 1.]), array([10, 10]))\n",
      "12/09 07:36:17 PM | Exp start: -5.0 Exp end: 10.0\n",
      "12/09 07:36:17 PM | Loaded and preprocessed dataset!\n"
     ]
    }
   ],
   "source": [
    "# load dataset\n",
    "trainer_obj.load_data()"
   ]
  },
  {
   "cell_type": "markdown",
   "id": "4e4ef45c",
   "metadata": {},
   "source": [
    "### Run the training procedure\n",
    "Next we run the training procedure on the loaded dataset. The model subsequently prints out the classification metrics to the console."
   ]
  },
  {
   "cell_type": "code",
   "execution_count": null,
   "id": "786659ec",
   "metadata": {},
   "outputs": [
    {
     "name": "stdout",
     "output_type": "stream",
     "text": [
      "12/09 07:36:28 PM | Initialized priors!\n",
      "12/09 07:36:28 PM | Rules: 10 Detectors: 10\n",
      "12/09 07:36:28 PM | Using cross-validation type: None\n",
      "12/09 07:36:28 PM | Initializing model!\n",
      "12/09 07:36:43 PM | Model training started!\n",
      "Directory  ./logs/David/seed_42/rank_0/fold_0  already exists\n"
     ]
    }
   ],
   "source": [
    "# run train loop\n",
    "trainer_obj.train_loop()"
   ]
  },
  {
   "cell_type": "markdown",
   "id": "6f24a33e",
   "metadata": {},
   "source": [
    "### Examine model outputs\n",
    "The model saves the training losses and the final learned rules as pdf files in the following locations"
   ]
  },
  {
   "cell_type": "code",
   "execution_count": 7,
   "id": "44a68fd0",
   "metadata": {},
   "outputs": [],
   "source": [
    "rules_path = './logs/David/seed_42/rank_0/fold_0/rules.pdf'\n",
    "loss_path = './logs/David/seed_42/rank_0/fold_0/losses.pdf'"
   ]
  },
  {
   "cell_type": "markdown",
   "id": "9f0507e0",
   "metadata": {},
   "source": [
    "#### Examine model convergence\n",
    "Executing the following cell opens the pdf file containing all of the different losses optimized during the training process. In order to confirm that the model has converged, take a look at 'Train CE Loss' plot to make sure that the loss has reached close to 0 and has flattened out at the end of the training."
   ]
  },
  {
   "cell_type": "code",
   "execution_count": 11,
   "id": "453b2105",
   "metadata": {},
   "outputs": [
    {
     "data": {
      "text/plain": [
       "True"
      ]
     },
     "execution_count": 11,
     "metadata": {},
     "output_type": "execute_result"
    }
   ],
   "source": [
    "webbrowser.open_new(loss_path)"
   ]
  },
  {
   "cell_type": "markdown",
   "id": "0b3e005c",
   "metadata": {},
   "source": [
    "#### Examine learned rules\n",
    "Executing the following cell opens the pdf file containing the learned rules by the model. In this case the model learns 2 rules, each with 1 detector. For each rule, we show the english description as the title and the visual plot representation with the abundances over time and the selected clade of bacteria. For example Rule 3 Detector 0 reads: TRUE for Plant diet if the average slope of selected taxa between days 1 to 9 is greater than -0.0023. This rule captures the pattern that the abundances of selected clade of taxa (shown on the right in the figure) increase at a rate higher than -0.0023 per day between days 1 to 9 for subjects with Plant-based diet. In each of the plots, the red dashed line shows the median slope of all subjects and the black dashed line shows the learned threshold of -0.0023."
   ]
  },
  {
   "cell_type": "code",
   "execution_count": 12,
   "id": "c08a8eee",
   "metadata": {},
   "outputs": [
    {
     "data": {
      "text/plain": [
       "True"
      ]
     },
     "execution_count": 12,
     "metadata": {},
     "output_type": "execute_result"
    }
   ],
   "source": [
    "webbrowser.open_new(rules_path)"
   ]
  },
  {
   "cell_type": "code",
   "execution_count": null,
   "id": "4321e9d1",
   "metadata": {},
   "outputs": [],
   "source": []
  }
 ],
 "metadata": {
  "kernelspec": {
   "display_name": "Python 3",
   "language": "python",
   "name": "python3"
  },
  "language_info": {
   "codemirror_mode": {
    "name": "ipython",
    "version": 3
   },
   "file_extension": ".py",
   "mimetype": "text/x-python",
   "name": "python",
   "nbconvert_exporter": "python",
   "pygments_lexer": "ipython3",
   "version": "3.6.13"
  }
 },
 "nbformat": 4,
 "nbformat_minor": 5
}
